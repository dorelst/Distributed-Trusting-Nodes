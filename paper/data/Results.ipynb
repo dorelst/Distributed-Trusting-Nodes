{
 "cells": [
  {
   "cell_type": "code",
   "execution_count": 6,
   "metadata": {},
   "outputs": [
    {
     "data": {
      "image/png": "[encoded data removed]",
      "text/plain": [
       "<matplotlib.figure.Figure at 0x20ed3e25588>"
      ]
     },
     "metadata": {},
     "output_type": "display_data"
    }
   ],
   "source": [
    "import numpy as np\n",
    "import matplotlib.pyplot as plt\n",
    "\n",
    "times = (15010, 16342, 16077, 14893)\n",
    "outs = (11175, 45967, 60, 12928)\n",
    "titles = (\"all\", \"Diff\", \"EMA\", \"Pess\")\n",
    "ind = np.arange(4)\n",
    "\n",
    "\n",
    "plt.ylabel(\"Time (ms)\")\n",
    "plt.xticks(ind, titles)\n",
    "plt.savefig(\"../pics/times.png\")\n",
    "plt.show()"
   ]
  }
 ],
 "metadata": {
  "kernelspec": {
   "display_name": "Python 3",
   "language": "python",
   "name": "python3"
  },
  "language_info": {
   "codemirror_mode": {
    "name": "ipython",
    "version": 3
   },
   "file_extension": ".py",
   "mimetype": "text/x-python",
   "name": "python",
   "nbconvert_exporter": "python",
   "pygments_lexer": "ipython3",
   "version": "3.6.3"
  }
 },
 "nbformat": 4,
 "nbformat_minor": 2
}
